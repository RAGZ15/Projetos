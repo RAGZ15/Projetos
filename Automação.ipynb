{
 "cells": [
  {
   "cell_type": "code",
   "execution_count": 132,
   "id": "757538b3",
   "metadata": {},
   "outputs": [
    {
     "data": {
      "text/plain": [
       "Date\n",
       "2022-11-30 00:00:00-03:00    23.727917\n",
       "2022-12-01 00:00:00-03:00    22.775597\n",
       "2022-12-02 00:00:00-03:00    23.060404\n",
       "2022-12-05 00:00:00-03:00    22.802298\n",
       "2022-12-06 00:00:00-03:00    22.820097\n",
       "                               ...    \n",
       "2023-05-25 00:00:00-03:00    26.450001\n",
       "2023-05-26 00:00:00-03:00    26.799999\n",
       "2023-05-29 00:00:00-03:00    26.690001\n",
       "2023-05-30 00:00:00-03:00    26.389999\n",
       "2023-05-31 00:00:00-03:00    26.110001\n",
       "Name: Close, Length: 125, dtype: float64"
      ]
     },
     "execution_count": 132,
     "metadata": {},
     "output_type": "execute_result"
    }
   ],
   "source": [
    "import yfinance as yf\n",
    "ticker = input(\"Digite o código da ação: \")\n",
    "dados = yf.Ticker(ticker).history(\"6mo\")\n",
    "fechamento = dados.Close\n",
    "fechamento\n"
   ]
  },
  {
   "cell_type": "code",
   "execution_count": 133,
   "id": "e7d2c1a4",
   "metadata": {},
   "outputs": [
    {
     "data": {
      "text/plain": [
       "26.799999237060547"
      ]
     },
     "execution_count": 133,
     "metadata": {},
     "output_type": "execute_result"
    }
   ],
   "source": [
    "fechamento.max()"
   ]
  },
  {
   "cell_type": "code",
   "execution_count": 134,
   "id": "56fc0e93",
   "metadata": {},
   "outputs": [
    {
     "data": {
      "text/plain": [
       "19.10871696472168"
      ]
     },
     "execution_count": 134,
     "metadata": {},
     "output_type": "execute_result"
    }
   ],
   "source": [
    "fechamento.min()"
   ]
  },
  {
   "cell_type": "code",
   "execution_count": 135,
   "id": "117506ba",
   "metadata": {},
   "outputs": [
    {
     "data": {
      "text/plain": [
       "26.110000610351562"
      ]
     },
     "execution_count": 135,
     "metadata": {},
     "output_type": "execute_result"
    }
   ],
   "source": [
    "fechamento[-1]"
   ]
  },
  {
   "cell_type": "code",
   "execution_count": 136,
   "id": "6ee5152c",
   "metadata": {},
   "outputs": [],
   "source": [
    "max = round(fechamento.max(),2)\n",
    "min = round(fechamento.min(),2)\n",
    "at = round(fechamento[-1],2)"
   ]
  },
  {
   "cell_type": "code",
   "execution_count": 137,
   "id": "8b2b4dc0",
   "metadata": {},
   "outputs": [
    {
     "name": "stdout",
     "output_type": "stream",
     "text": [
      "26.8\n",
      "19.11\n",
      "26.11\n"
     ]
    }
   ],
   "source": [
    "print(max)\n",
    "print(min)\n",
    "print(at)"
   ]
  },
  {
   "cell_type": "code",
   "execution_count": 138,
   "id": "477234d1",
   "metadata": {},
   "outputs": [
    {
     "name": "stdout",
     "output_type": "stream",
     "text": [
      "Requirement already satisfied: pyautogui in c:\\users\\rafa1\\anaconda3\\lib\\site-packages (0.9.54)\n",
      "Requirement already satisfied: mouseinfo in c:\\users\\rafa1\\anaconda3\\lib\\site-packages (from pyautogui) (0.1.3)\n",
      "Requirement already satisfied: pymsgbox in c:\\users\\rafa1\\anaconda3\\lib\\site-packages (from pyautogui) (1.0.9)\n",
      "Requirement already satisfied: pytweening>=1.0.4 in c:\\users\\rafa1\\anaconda3\\lib\\site-packages (from pyautogui) (1.0.7)\n",
      "Requirement already satisfied: pygetwindow>=0.0.5 in c:\\users\\rafa1\\anaconda3\\lib\\site-packages (from pyautogui) (0.0.9)\n",
      "Requirement already satisfied: pyscreeze>=0.1.21 in c:\\users\\rafa1\\anaconda3\\lib\\site-packages (from pyautogui) (0.1.29)\n",
      "Requirement already satisfied: pyrect in c:\\users\\rafa1\\anaconda3\\lib\\site-packages (from pygetwindow>=0.0.5->pyautogui) (0.2.0)\n",
      "Requirement already satisfied: pyscreenshot in c:\\users\\rafa1\\anaconda3\\lib\\site-packages (from pyscreeze>=0.1.21->pyautogui) (3.1)\n",
      "Requirement already satisfied: Pillow>=9.2.0 in c:\\users\\rafa1\\anaconda3\\lib\\site-packages (from pyscreeze>=0.1.21->pyautogui) (9.4.0)\n",
      "Requirement already satisfied: pyperclip in c:\\users\\rafa1\\anaconda3\\lib\\site-packages (from mouseinfo->pyautogui) (1.8.2)\n",
      "Requirement already satisfied: EasyProcess in c:\\users\\rafa1\\anaconda3\\lib\\site-packages (from pyscreenshot->pyscreeze>=0.1.21->pyautogui) (1.1)\n",
      "Requirement already satisfied: mss in c:\\users\\rafa1\\anaconda3\\lib\\site-packages (from pyscreenshot->pyscreeze>=0.1.21->pyautogui) (9.0.1)\n",
      "Requirement already satisfied: entrypoint2 in c:\\users\\rafa1\\anaconda3\\lib\\site-packages (from pyscreenshot->pyscreeze>=0.1.21->pyautogui) (1.1)\n",
      "Note: you may need to restart the kernel to use updated packages.\n",
      "Requirement already satisfied: pyperclip in c:\\users\\rafa1\\anaconda3\\lib\\site-packages (1.8.2)\n",
      "Note: you may need to restart the kernel to use updated packages.\n"
     ]
    }
   ],
   "source": [
    "%pip install pyautogui\n",
    "%pip install pyperclip"
   ]
  },
  {
   "cell_type": "code",
   "execution_count": 139,
   "id": "de43dc82",
   "metadata": {},
   "outputs": [],
   "source": [
    "import pyautogui\n",
    "import pyperclip\n",
    "pyautogui.PAUSE = 3"
   ]
  },
  {
   "attachments": {},
   "cell_type": "markdown",
   "id": "fc2b8f74",
   "metadata": {},
   "source": [
    "#Criei atalho no navegador clicando com o botão direito e indo em propriedades \"ctrl+alt+n\""
   ]
  },
  {
   "cell_type": "code",
   "execution_count": 140,
   "id": "32f5d3bf",
   "metadata": {},
   "outputs": [],
   "source": [
    "pyautogui.hotkey(\"ctrl\",\"alt\",\"n\")"
   ]
  },
  {
   "cell_type": "code",
   "execution_count": 141,
   "id": "8652b4b9",
   "metadata": {},
   "outputs": [],
   "source": [
    "pyautogui.hotkey(\"ctrl\",\"t\")"
   ]
  },
  {
   "cell_type": "code",
   "execution_count": 142,
   "id": "f569f38e",
   "metadata": {},
   "outputs": [],
   "source": [
    "pyperclip.copy(\"gmail.com\")"
   ]
  },
  {
   "cell_type": "code",
   "execution_count": 143,
   "id": "e8cf9d40",
   "metadata": {},
   "outputs": [],
   "source": [
    "pyautogui.hotkey(\"ctrl\",\"v\")"
   ]
  },
  {
   "cell_type": "code",
   "execution_count": 144,
   "id": "89d751ae",
   "metadata": {},
   "outputs": [],
   "source": [
    "pyautogui.hotkey(\"enter\")"
   ]
  },
  {
   "cell_type": "code",
   "execution_count": 145,
   "id": "251f2de7",
   "metadata": {},
   "outputs": [
    {
     "data": {
      "text/plain": [
       "Point(x=665, y=117)"
      ]
     },
     "execution_count": 145,
     "metadata": {},
     "output_type": "execute_result"
    }
   ],
   "source": [
    "pyautogui.position()"
   ]
  },
  {
   "cell_type": "code",
   "execution_count": 146,
   "id": "f3110ad3",
   "metadata": {},
   "outputs": [],
   "source": [
    "pyautogui.click(x=139, y=257)"
   ]
  },
  {
   "cell_type": "code",
   "execution_count": 147,
   "id": "f186f16f",
   "metadata": {},
   "outputs": [],
   "source": [
    "pyperclip.copy(\"emaildesejado@gmail.com\")"
   ]
  },
  {
   "cell_type": "code",
   "execution_count": 148,
   "id": "0dee8b09",
   "metadata": {},
   "outputs": [],
   "source": [
    "pyautogui.hotkey(\"ctrl\",\"v\")"
   ]
  },
  {
   "cell_type": "code",
   "execution_count": 149,
   "id": "e9616109",
   "metadata": {},
   "outputs": [],
   "source": [
    "pyautogui.hotkey(\"tab\")"
   ]
  },
  {
   "cell_type": "code",
   "execution_count": 150,
   "id": "ac71cf04",
   "metadata": {},
   "outputs": [],
   "source": [
    "pyperclip.copy(\"Analise de dados sobre ultimos 6 meses.\")"
   ]
  },
  {
   "cell_type": "code",
   "execution_count": 151,
   "id": "be54a430",
   "metadata": {},
   "outputs": [],
   "source": [
    "pyautogui.hotkey(\"ctrl\",\"v\")"
   ]
  },
  {
   "cell_type": "code",
   "execution_count": 152,
   "id": "8c562a6f",
   "metadata": {},
   "outputs": [],
   "source": [
    "pyautogui.hotkey(\"tab\")"
   ]
  },
  {
   "cell_type": "code",
   "execution_count": 153,
   "id": "5b29383c",
   "metadata": {},
   "outputs": [],
   "source": [
    "mensagem = f\"\"\"Caro cliente.\n",
    "\n",
    "Gostaria de mandar os relátorios dos últimos 6 meses,\n",
    "referentes a ação {ticker} \n",
    "\n",
    "Cotação máxima: {max}\n",
    "Cotação mínima: {min}\n",
    "Cotação atual: {at}\n",
    "Qualquer dúvida, fico a disposição!\n",
    "\n",
    "Atte.\n",
    "Rafael Almeida\"\"\"\n",
    "pyperclip.copy(mensagem)"
   ]
  },
  {
   "cell_type": "code",
   "execution_count": 154,
   "id": "1deacb7f",
   "metadata": {},
   "outputs": [],
   "source": [
    "pyautogui.hotkey(\"ctrl\",\"v\")"
   ]
  },
  {
   "cell_type": "code",
   "execution_count": 155,
   "id": "e6b80cbb",
   "metadata": {},
   "outputs": [
    {
     "data": {
      "text/plain": [
       "Point(x=485, y=124)"
      ]
     },
     "execution_count": 155,
     "metadata": {},
     "output_type": "execute_result"
    }
   ],
   "source": [
    "pyautogui.position()"
   ]
  },
  {
   "cell_type": "code",
   "execution_count": 156,
   "id": "069e1eda",
   "metadata": {},
   "outputs": [],
   "source": [
    "pyautogui.click(x=1185, y=1045)"
   ]
  }
 ],
 "metadata": {
  "kernelspec": {
   "display_name": "Python 3 (ipykernel)",
   "language": "python",
   "name": "python3"
  },
  "language_info": {
   "codemirror_mode": {
    "name": "ipython",
    "version": 3
   },
   "file_extension": ".py",
   "mimetype": "text/x-python",
   "name": "python",
   "nbconvert_exporter": "python",
   "pygments_lexer": "ipython3",
   "version": "3.10.9"
  }
 },
 "nbformat": 4,
 "nbformat_minor": 5
}
